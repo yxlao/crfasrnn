{
 "cells": [
  {
   "cell_type": "code",
   "execution_count": 11,
   "metadata": {
    "collapsed": true
   },
   "outputs": [],
   "source": [
    "caffe_root = '../caffe-crfrnn/'\n",
    "import sys\n",
    "sys.path.insert(0, caffe_root + 'python')\n",
    "\n",
    "import os\n",
    "import cPickle\n",
    "import logging\n",
    "import numpy as np\n",
    "import pandas as pd\n",
    "from PIL import Image as PILImage\n",
    "#import Image\n",
    "import cStringIO as StringIO\n",
    "import caffe\n",
    "import matplotlib.pyplot as plt\n",
    "%matplotlib inline"
   ]
  },
  {
   "cell_type": "code",
   "execution_count": null,
   "metadata": {
    "collapsed": true
   },
   "outputs": [],
   "source": [
    "# set up net\n",
    "MODEL_FILE = 'TVG_CRFRNN_COCO_VOC.prototxt'\n",
    "PRETRAINED = 'TVG_CRFRNN_COCO_VOC.caffemodel'\n",
    "\n",
    "net = caffe.Segmenter(MODEL_FILE, PRETRAINED)\n",
    "net.set_mode_gpu()\n",
    "net.set_device(0)"
   ]
  },
  {
   "cell_type": "code",
   "execution_count": 12,
   "metadata": {
    "collapsed": false
   },
   "outputs": [],
   "source": [
    "# load image\n",
    "IMAGE_FILE = 'input.jpg'\n",
    "input_image = 255 * caffe.io.load_image(IMAGE_FILE)\n",
    "\n",
    "width = input_image.shape[0]\n",
    "height = input_image.shape[1]\n",
    "maxDim = max(width,height)\n",
    "\n",
    "image = PILImage.fromarray(np.uint8(input_image))\n",
    "image = np.array(image)\n",
    "\n",
    "pallete = [0,0,0,\n",
    "            128,0,0,\n",
    "            0,128,0,\n",
    "            128,128,0,\n",
    "            0,0,128,\n",
    "            128,0,128,\n",
    "            0,128,128,\n",
    "            128,128,128,\n",
    "            64,0,0,\n",
    "            192,0,0,\n",
    "            64,128,0,\n",
    "            192,128,0,\n",
    "            64,0,128,\n",
    "            192,0,128,\n",
    "            64,128,128,\n",
    "            192,128,128,\n",
    "            0,64,0,\n",
    "            128,64,0,\n",
    "            0,192,0,\n",
    "            128,192,0,\n",
    "            0,64,128,\n",
    "            128,64,128,\n",
    "            0,192,128,\n",
    "            128,192,128,\n",
    "            64,64,0,\n",
    "            192,64,0,\n",
    "            64,192,0,\n",
    "            192,192,0]\n",
    "\n",
    "mean_vec = np.array([103.939, 116.779, 123.68], dtype=np.float32)\n",
    "reshaped_mean_vec = mean_vec.reshape(1, 1, 3);\n",
    "\n",
    "# Rearrange channels to form BGR\n",
    "im = image[:,:,::-1]\n",
    "# Subtract mean\n",
    "im = im - reshaped_mean_vec\n",
    "\n",
    "# Pad as necessary\n",
    "cur_h, cur_w, cur_c = im.shape\n",
    "pad_h = 500 - cur_h\n",
    "pad_w = 500 - cur_w\n",
    "im = np.pad(im, pad_width=((0, pad_h), (0, pad_w), (0, 0)), mode = 'constant', constant_values = 0)"
   ]
  },
  {
   "cell_type": "code",
   "execution_count": 14,
   "metadata": {
    "collapsed": false
   },
   "outputs": [],
   "source": [
    "# Get predictions\n",
    "segmentation = net.predict([im])\n",
    "segmentation2 = segmentation[0:cur_h, 0:cur_w]\n",
    "output_im = PILImage.fromarray(segmentation2)\n",
    "output_im.putpalette(pallete)"
   ]
  },
  {
   "cell_type": "code",
   "execution_count": 15,
   "metadata": {
    "collapsed": false
   },
   "outputs": [
    {
     "data": {
      "image/png": "[encoded data removed]",
      "text/plain": [
       "<matplotlib.figure.Figure at 0x7f91c13e52d0>"
      ]
     },
     "metadata": {},
     "output_type": "display_data"
    }
   ],
   "source": [
    "plt.imshow(output_im)\n",
    "plt.savefig('output.png')"
   ]
  },
  {
   "cell_type": "code",
   "execution_count": null,
   "metadata": {
    "collapsed": true
   },
   "outputs": [],
   "source": []
  },
  {
   "cell_type": "code",
   "execution_count": null,
   "metadata": {
    "collapsed": true
   },
   "outputs": [],
   "source": []
  }
 ],
 "metadata": {
  "kernelspec": {
   "display_name": "Python 2",
   "language": "python",
   "name": "python2"
  },
  "language_info": {
   "codemirror_mode": {
    "name": "ipython",
    "version": 2
   },
   "file_extension": ".py",
   "mimetype": "text/x-python",
   "name": "python",
   "nbconvert_exporter": "python",
   "pygments_lexer": "ipython2",
   "version": "2.7.6"
  }
 },
 "nbformat": 4,
 "nbformat_minor": 0
}
